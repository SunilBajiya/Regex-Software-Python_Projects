{
 "cells": [
  {
   "cell_type": "code",
   "execution_count": 142,
   "id": "144672f8-a955-4eae-968b-95b374678ab3",
   "metadata": {},
   "outputs": [],
   "source": [
    "# data Devidation  is is used to tranform the data \n",
    "# divide data in dependent and independent datasets \n",
    "# df -->x +y\n",
    "#x---> x_train , y_test\n",
    "# y---> y_train , y_test\n"
   ]
  },
  {
   "cell_type": "code",
   "execution_count": 143,
   "id": "fc43c465-a24d-45fe-bf09-90511b66c387",
   "metadata": {},
   "outputs": [],
   "source": [
    "import pandas as pd\n",
    "import numpy as np"
   ]
  },
  {
   "cell_type": "code",
   "execution_count": 144,
   "id": "eb950ca7-c2cd-4411-9a7c-0a3052704588",
   "metadata": {},
   "outputs": [],
   "source": [
    "df= pd.read_csv(\"students.csv\")"
   ]
  },
  {
   "cell_type": "code",
   "execution_count": 145,
   "id": "ab632fa9-1217-47ea-9789-3321599e226d",
   "metadata": {},
   "outputs": [
    {
     "data": {
      "text/html": [
       "<div>\n",
       "<style scoped>\n",
       "    .dataframe tbody tr th:only-of-type {\n",
       "        vertical-align: middle;\n",
       "    }\n",
       "\n",
       "    .dataframe tbody tr th {\n",
       "        vertical-align: top;\n",
       "    }\n",
       "\n",
       "    .dataframe thead th {\n",
       "        text-align: right;\n",
       "    }\n",
       "</style>\n",
       "<table border=\"1\" class=\"dataframe\">\n",
       "  <thead>\n",
       "    <tr style=\"text-align: right;\">\n",
       "      <th></th>\n",
       "      <th>StudentID</th>\n",
       "      <th>Name</th>\n",
       "      <th>Age</th>\n",
       "      <th>Email</th>\n",
       "      <th>Department</th>\n",
       "      <th>GPA</th>\n",
       "      <th>GraduationYear</th>\n",
       "    </tr>\n",
       "  </thead>\n",
       "  <tbody>\n",
       "    <tr>\n",
       "      <th>118</th>\n",
       "      <td>3669</td>\n",
       "      <td>Meghan Roy</td>\n",
       "      <td>23</td>\n",
       "      <td>ystevens@yahoo.com</td>\n",
       "      <td>Computer Science</td>\n",
       "      <td>2.48</td>\n",
       "      <td>2025</td>\n",
       "    </tr>\n",
       "  </tbody>\n",
       "</table>\n",
       "</div>"
      ],
      "text/plain": [
       "     StudentID        Name  Age               Email        Department   GPA  \\\n",
       "118       3669  Meghan Roy   23  ystevens@yahoo.com  Computer Science  2.48   \n",
       "\n",
       "     GraduationYear  \n",
       "118            2025  "
      ]
     },
     "execution_count": 145,
     "metadata": {},
     "output_type": "execute_result"
    }
   ],
   "source": [
    "df.sample()"
   ]
  },
  {
   "cell_type": "code",
   "execution_count": 146,
   "id": "4d20d909-bbd6-4ba3-abfd-bf2a85a06afa",
   "metadata": {},
   "outputs": [
    {
     "data": {
      "text/html": [
       "<div>\n",
       "<style scoped>\n",
       "    .dataframe tbody tr th:only-of-type {\n",
       "        vertical-align: middle;\n",
       "    }\n",
       "\n",
       "    .dataframe tbody tr th {\n",
       "        vertical-align: top;\n",
       "    }\n",
       "\n",
       "    .dataframe thead th {\n",
       "        text-align: right;\n",
       "    }\n",
       "</style>\n",
       "<table border=\"1\" class=\"dataframe\">\n",
       "  <thead>\n",
       "    <tr style=\"text-align: right;\">\n",
       "      <th></th>\n",
       "      <th>StudentID</th>\n",
       "      <th>Name</th>\n",
       "      <th>Age</th>\n",
       "      <th>Email</th>\n",
       "      <th>Department</th>\n",
       "      <th>GPA</th>\n",
       "      <th>GraduationYear</th>\n",
       "    </tr>\n",
       "  </thead>\n",
       "  <tbody>\n",
       "    <tr>\n",
       "      <th>0</th>\n",
       "      <td>3336</td>\n",
       "      <td>David Palmer</td>\n",
       "      <td>19</td>\n",
       "      <td>sean43@hotmail.com</td>\n",
       "      <td>Mathematics</td>\n",
       "      <td>3.16</td>\n",
       "      <td>2026</td>\n",
       "    </tr>\n",
       "    <tr>\n",
       "      <th>1</th>\n",
       "      <td>8774</td>\n",
       "      <td>Andrew Roach</td>\n",
       "      <td>23</td>\n",
       "      <td>vbecker@harvey.com</td>\n",
       "      <td>Chemistry</td>\n",
       "      <td>3.75</td>\n",
       "      <td>2027</td>\n",
       "    </tr>\n",
       "    <tr>\n",
       "      <th>2</th>\n",
       "      <td>1396</td>\n",
       "      <td>Jonathan Gonzalez</td>\n",
       "      <td>22</td>\n",
       "      <td>hollydavis@gmail.com</td>\n",
       "      <td>Physics</td>\n",
       "      <td>2.95</td>\n",
       "      <td>2027</td>\n",
       "    </tr>\n",
       "    <tr>\n",
       "      <th>3</th>\n",
       "      <td>6716</td>\n",
       "      <td>Kenneth Morrow</td>\n",
       "      <td>24</td>\n",
       "      <td>ganderson@wheeler-atkins.info</td>\n",
       "      <td>Physics</td>\n",
       "      <td>3.55</td>\n",
       "      <td>2029</td>\n",
       "    </tr>\n",
       "  </tbody>\n",
       "</table>\n",
       "</div>"
      ],
      "text/plain": [
       "   StudentID               Name  Age                          Email  \\\n",
       "0       3336       David Palmer   19             sean43@hotmail.com   \n",
       "1       8774       Andrew Roach   23             vbecker@harvey.com   \n",
       "2       1396  Jonathan Gonzalez   22           hollydavis@gmail.com   \n",
       "3       6716     Kenneth Morrow   24  ganderson@wheeler-atkins.info   \n",
       "\n",
       "    Department   GPA  GraduationYear  \n",
       "0  Mathematics  3.16            2026  \n",
       "1    Chemistry  3.75            2027  \n",
       "2      Physics  2.95            2027  \n",
       "3      Physics  3.55            2029  "
      ]
     },
     "execution_count": 146,
     "metadata": {},
     "output_type": "execute_result"
    }
   ],
   "source": [
    "df.head(4)"
   ]
  },
  {
   "cell_type": "code",
   "execution_count": 147,
   "id": "d88e80e5-479a-4a10-ba3f-16afafd66679",
   "metadata": {},
   "outputs": [],
   "source": [
    "# made the input dependent and independth datat set\n",
    "x=df.drop(columns=['GPA']) # input data \n",
    "y=df['GPA'] # make the target data "
   ]
  },
  {
   "cell_type": "code",
   "execution_count": 148,
   "id": "34f32adc-8a5c-40ad-adea-8342bffe1a95",
   "metadata": {},
   "outputs": [],
   "source": [
    "from sklearn.model_selection import train_test_split\n"
   ]
  },
  {
   "cell_type": "code",
   "execution_count": 149,
   "id": "676a8681-fa00-4ed5-8af1-178a47cfd86b",
   "metadata": {},
   "outputs": [],
   "source": [
    "x_train, x_test, y_train, y_test=train_test_split(x,y,test_size=0.2,random_state=42)"
   ]
  },
  {
   "cell_type": "code",
   "execution_count": 150,
   "id": "18b4c078-8e8b-40f4-958e-f45e74dff81d",
   "metadata": {},
   "outputs": [
    {
     "data": {
      "text/html": [
       "<div>\n",
       "<style scoped>\n",
       "    .dataframe tbody tr th:only-of-type {\n",
       "        vertical-align: middle;\n",
       "    }\n",
       "\n",
       "    .dataframe tbody tr th {\n",
       "        vertical-align: top;\n",
       "    }\n",
       "\n",
       "    .dataframe thead th {\n",
       "        text-align: right;\n",
       "    }\n",
       "</style>\n",
       "<table border=\"1\" class=\"dataframe\">\n",
       "  <thead>\n",
       "    <tr style=\"text-align: right;\">\n",
       "      <th></th>\n",
       "      <th>StudentID</th>\n",
       "      <th>Age</th>\n",
       "      <th>GraduationYear</th>\n",
       "    </tr>\n",
       "  </thead>\n",
       "  <tbody>\n",
       "    <tr>\n",
       "      <th>count</th>\n",
       "      <td>160.00</td>\n",
       "      <td>160.00</td>\n",
       "      <td>160.00</td>\n",
       "    </tr>\n",
       "    <tr>\n",
       "      <th>mean</th>\n",
       "      <td>5632.75</td>\n",
       "      <td>21.49</td>\n",
       "      <td>2027.14</td>\n",
       "    </tr>\n",
       "    <tr>\n",
       "      <th>std</th>\n",
       "      <td>2531.25</td>\n",
       "      <td>2.30</td>\n",
       "      <td>2.04</td>\n",
       "    </tr>\n",
       "    <tr>\n",
       "      <th>min</th>\n",
       "      <td>1066.00</td>\n",
       "      <td>18.00</td>\n",
       "      <td>2024.00</td>\n",
       "    </tr>\n",
       "    <tr>\n",
       "      <th>25%</th>\n",
       "      <td>3577.00</td>\n",
       "      <td>19.00</td>\n",
       "      <td>2025.00</td>\n",
       "    </tr>\n",
       "    <tr>\n",
       "      <th>50%</th>\n",
       "      <td>5616.50</td>\n",
       "      <td>21.50</td>\n",
       "      <td>2027.00</td>\n",
       "    </tr>\n",
       "    <tr>\n",
       "      <th>75%</th>\n",
       "      <td>7949.25</td>\n",
       "      <td>23.00</td>\n",
       "      <td>2029.00</td>\n",
       "    </tr>\n",
       "    <tr>\n",
       "      <th>max</th>\n",
       "      <td>9985.00</td>\n",
       "      <td>25.00</td>\n",
       "      <td>2030.00</td>\n",
       "    </tr>\n",
       "  </tbody>\n",
       "</table>\n",
       "</div>"
      ],
      "text/plain": [
       "       StudentID     Age  GraduationYear\n",
       "count     160.00  160.00          160.00\n",
       "mean     5632.75   21.49         2027.14\n",
       "std      2531.25    2.30            2.04\n",
       "min      1066.00   18.00         2024.00\n",
       "25%      3577.00   19.00         2025.00\n",
       "50%      5616.50   21.50         2027.00\n",
       "75%      7949.25   23.00         2029.00\n",
       "max      9985.00   25.00         2030.00"
      ]
     },
     "execution_count": 150,
     "metadata": {},
     "output_type": "execute_result"
    }
   ],
   "source": [
    "np.round(x_train.describe(),2)\n"
   ]
  },
  {
   "cell_type": "code",
   "execution_count": 151,
   "id": "98e43a00-ef34-4acf-816f-a924addd107b",
   "metadata": {},
   "outputs": [],
   "source": [
    "# now the mena and max value gap is different \n",
    "\n",
    "# mean= average\n",
    "# Normal Distribution --- Center tendancy(mean , median --> left and right data value will be same \n",
    "# standard devidation= next value gap from centrol tendance \n"
   ]
  },
  {
   "cell_type": "markdown",
   "id": "1725f9b4-2446-4150-a8d1-abe1317a3c8a",
   "metadata": {},
   "source": [
    "# To Convert Into the Normal Distribution"
   ]
  },
  {
   "cell_type": "code",
   "execution_count": 152,
   "id": "6c8161e8-2b68-4e4e-96da-54cc136b8f51",
   "metadata": {},
   "outputs": [],
   "source": [
    "from sklearn.preprocessing import StandardScaler"
   ]
  },
  {
   "cell_type": "code",
   "execution_count": 153,
   "id": "307ad95a-6cab-4b02-9f31-b7fe0adc1b08",
   "metadata": {},
   "outputs": [],
   "source": [
    "sc=StandardScaler()\n"
   ]
  },
  {
   "cell_type": "code",
   "execution_count": 154,
   "id": "3e262b7c-59d6-4247-99a2-7c82b6d1a7d2",
   "metadata": {},
   "outputs": [
    {
     "data": {
      "text/plain": [
       "pandas.core.frame.DataFrame"
      ]
     },
     "execution_count": 154,
     "metadata": {},
     "output_type": "execute_result"
    }
   ],
   "source": [
    "type(x_train)"
   ]
  },
  {
   "cell_type": "code",
   "execution_count": 155,
   "id": "475b8bdd-859b-4fd2-8755-849b3fd29472",
   "metadata": {},
   "outputs": [],
   "source": [
    "x_train_sc = sc.fit_transform(x_train.select_dtypes(include=[np.number])) # fit means learn the parameter and transform means apply on that data "
   ]
  },
  {
   "cell_type": "code",
   "execution_count": 156,
   "id": "6863cf8b-4a61-4c07-a095-1ba40c52be5f",
   "metadata": {},
   "outputs": [
    {
     "data": {
      "text/plain": [
       "numpy.ndarray"
      ]
     },
     "execution_count": 156,
     "metadata": {},
     "output_type": "execute_result"
    }
   ],
   "source": [
    "type(x_train_sc)"
   ]
  },
  {
   "cell_type": "code",
   "execution_count": 157,
   "id": "c970778d-349e-49d2-bd14-1e6b97397a73",
   "metadata": {},
   "outputs": [],
   "source": [
    "# x_train_new=pd.DataFrame(x_train_sc,columns=x_train.columns)\n",
    "x_train_sc = pd.DataFrame(sc.fit_transform(x_train.select_dtypes(include=[np.number])), columns=x_train.select_dtypes(include=[np.number]).columns)\n"
   ]
  },
  {
   "cell_type": "code",
   "execution_count": 158,
   "id": "547c3cc8-f192-4299-b273-f652f4e5ad6d",
   "metadata": {},
   "outputs": [
    {
     "data": {
      "text/html": [
       "<div>\n",
       "<style scoped>\n",
       "    .dataframe tbody tr th:only-of-type {\n",
       "        vertical-align: middle;\n",
       "    }\n",
       "\n",
       "    .dataframe tbody tr th {\n",
       "        vertical-align: top;\n",
       "    }\n",
       "\n",
       "    .dataframe thead th {\n",
       "        text-align: right;\n",
       "    }\n",
       "</style>\n",
       "<table border=\"1\" class=\"dataframe\">\n",
       "  <thead>\n",
       "    <tr style=\"text-align: right;\">\n",
       "      <th></th>\n",
       "      <th>0</th>\n",
       "      <th>1</th>\n",
       "      <th>2</th>\n",
       "    </tr>\n",
       "  </thead>\n",
       "  <tbody>\n",
       "    <tr>\n",
       "      <th>count</th>\n",
       "      <td>160.00</td>\n",
       "      <td>160.00</td>\n",
       "      <td>160.00</td>\n",
       "    </tr>\n",
       "    <tr>\n",
       "      <th>mean</th>\n",
       "      <td>0.00</td>\n",
       "      <td>0.00</td>\n",
       "      <td>-0.00</td>\n",
       "    </tr>\n",
       "    <tr>\n",
       "      <th>std</th>\n",
       "      <td>1.00</td>\n",
       "      <td>1.00</td>\n",
       "      <td>1.00</td>\n",
       "    </tr>\n",
       "    <tr>\n",
       "      <th>min</th>\n",
       "      <td>-1.81</td>\n",
       "      <td>-1.53</td>\n",
       "      <td>-1.54</td>\n",
       "    </tr>\n",
       "    <tr>\n",
       "      <th>25%</th>\n",
       "      <td>-0.81</td>\n",
       "      <td>-1.09</td>\n",
       "      <td>-1.05</td>\n",
       "    </tr>\n",
       "    <tr>\n",
       "      <th>50%</th>\n",
       "      <td>-0.01</td>\n",
       "      <td>0.00</td>\n",
       "      <td>-0.07</td>\n",
       "    </tr>\n",
       "    <tr>\n",
       "      <th>75%</th>\n",
       "      <td>0.92</td>\n",
       "      <td>0.66</td>\n",
       "      <td>0.92</td>\n",
       "    </tr>\n",
       "    <tr>\n",
       "      <th>max</th>\n",
       "      <td>1.72</td>\n",
       "      <td>1.53</td>\n",
       "      <td>1.41</td>\n",
       "    </tr>\n",
       "  </tbody>\n",
       "</table>\n",
       "</div>"
      ],
      "text/plain": [
       "            0       1       2\n",
       "count  160.00  160.00  160.00\n",
       "mean     0.00    0.00   -0.00\n",
       "std      1.00    1.00    1.00\n",
       "min     -1.81   -1.53   -1.54\n",
       "25%     -0.81   -1.09   -1.05\n",
       "50%     -0.01    0.00   -0.07\n",
       "75%      0.92    0.66    0.92\n",
       "max      1.72    1.53    1.41"
      ]
     },
     "execution_count": 158,
     "metadata": {},
     "output_type": "execute_result"
    }
   ],
   "source": [
    "np.round(x_train_new.describe(),2)"
   ]
  },
  {
   "cell_type": "markdown",
   "id": "3c30dad1-25e2-4eb9-a6ce-a5d4283c3cf6",
   "metadata": {},
   "source": [
    "# Data set --2"
   ]
  },
  {
   "cell_type": "code",
   "execution_count": 159,
   "id": "2c8c21df-ab35-43b8-9b25-9662ebf3584c",
   "metadata": {},
   "outputs": [],
   "source": [
    "df =pd.read_csv(\"Students_Performance_misVal.csv\")"
   ]
  },
  {
   "cell_type": "code",
   "execution_count": 160,
   "id": "ea58b408-b90a-4545-916d-27ba81c1519f",
   "metadata": {},
   "outputs": [
    {
     "data": {
      "text/html": [
       "<div>\n",
       "<style scoped>\n",
       "    .dataframe tbody tr th:only-of-type {\n",
       "        vertical-align: middle;\n",
       "    }\n",
       "\n",
       "    .dataframe tbody tr th {\n",
       "        vertical-align: top;\n",
       "    }\n",
       "\n",
       "    .dataframe thead th {\n",
       "        text-align: right;\n",
       "    }\n",
       "</style>\n",
       "<table border=\"1\" class=\"dataframe\">\n",
       "  <thead>\n",
       "    <tr style=\"text-align: right;\">\n",
       "      <th></th>\n",
       "      <th>gender</th>\n",
       "      <th>race/ethnicity</th>\n",
       "      <th>parental level of education</th>\n",
       "      <th>lunch</th>\n",
       "      <th>test preparation course</th>\n",
       "      <th>math score</th>\n",
       "      <th>reading score</th>\n",
       "      <th>writing score</th>\n",
       "    </tr>\n",
       "  </thead>\n",
       "  <tbody>\n",
       "    <tr>\n",
       "      <th>0</th>\n",
       "      <td>female</td>\n",
       "      <td>group B</td>\n",
       "      <td>bachelor's degree</td>\n",
       "      <td>standard</td>\n",
       "      <td>none</td>\n",
       "      <td>72</td>\n",
       "      <td>72</td>\n",
       "      <td>74</td>\n",
       "    </tr>\n",
       "    <tr>\n",
       "      <th>1</th>\n",
       "      <td>female</td>\n",
       "      <td>group C</td>\n",
       "      <td>some college</td>\n",
       "      <td>standard</td>\n",
       "      <td>completed</td>\n",
       "      <td>69</td>\n",
       "      <td>90</td>\n",
       "      <td>88</td>\n",
       "    </tr>\n",
       "    <tr>\n",
       "      <th>2</th>\n",
       "      <td>female</td>\n",
       "      <td>group B</td>\n",
       "      <td>master's degree</td>\n",
       "      <td>standard</td>\n",
       "      <td>none</td>\n",
       "      <td>90</td>\n",
       "      <td>95</td>\n",
       "      <td>93</td>\n",
       "    </tr>\n",
       "  </tbody>\n",
       "</table>\n",
       "</div>"
      ],
      "text/plain": [
       "   gender race/ethnicity parental level of education     lunch  \\\n",
       "0  female        group B           bachelor's degree  standard   \n",
       "1  female        group C                some college  standard   \n",
       "2  female        group B             master's degree  standard   \n",
       "\n",
       "  test preparation course  math score  reading score  writing score  \n",
       "0                    none          72             72             74  \n",
       "1               completed          69             90             88  \n",
       "2                    none          90             95             93  "
      ]
     },
     "execution_count": 160,
     "metadata": {},
     "output_type": "execute_result"
    }
   ],
   "source": [
    "df.head(3)"
   ]
  },
  {
   "cell_type": "code",
   "execution_count": 161,
   "id": "c9ceafd9-f1d1-4a72-9ed5-f9000ca467f9",
   "metadata": {},
   "outputs": [
    {
     "data": {
      "text/plain": [
       "(1000, 8)"
      ]
     },
     "execution_count": 161,
     "metadata": {},
     "output_type": "execute_result"
    }
   ],
   "source": [
    "df.shape"
   ]
  },
  {
   "cell_type": "code",
   "execution_count": 162,
   "id": "dd8fc364-2b75-43f3-8d9d-2fcfe85f7e3a",
   "metadata": {},
   "outputs": [
    {
     "data": {
      "text/plain": [
       "gender                          0\n",
       "race/ethnicity                 11\n",
       "parental level of education    21\n",
       "lunch                          12\n",
       "test preparation course         4\n",
       "math score                      0\n",
       "reading score                   0\n",
       "writing score                   0\n",
       "dtype: int64"
      ]
     },
     "execution_count": 162,
     "metadata": {},
     "output_type": "execute_result"
    }
   ],
   "source": [
    "df.isnull().sum()"
   ]
  },
  {
   "cell_type": "code",
   "execution_count": 163,
   "id": "2a9b5b13-3926-4118-8a44-e069eb56e4b6",
   "metadata": {},
   "outputs": [],
   "source": [
    "# coming the all these missing value to fill and drop\n",
    "from sklearn.impute import SimpleImputer # it is usefd for filling the missing values\n"
   ]
  },
  {
   "cell_type": "code",
   "execution_count": 164,
   "id": "c35c44d6-9cde-4288-bdee-66e2b825b55c",
   "metadata": {},
   "outputs": [],
   "source": [
    "si=SimpleImputer()"
   ]
  },
  {
   "cell_type": "code",
   "execution_count": 165,
   "id": "7175c8e0-e2d0-465a-975f-5cd98e1d342f",
   "metadata": {},
   "outputs": [],
   "source": [
    "df['race/ethnicity']=si.fit_transform(df.select_dtypes(include=[np.number]))\n",
    "df['parental level of education']=si.fit_transform(df.select_dtypes(include=[np.number]))\n",
    "df['lunch']=si.fit_transform(df.select_dtypes(include=[np.number]))\n",
    "df['test preparation course']=si.fit_transform(df.select_dtypes(include=[np.number]))\n"
   ]
  },
  {
   "cell_type": "code",
   "execution_count": 166,
   "id": "cfd1d52a-082b-4641-91a1-b839e11811d2",
   "metadata": {},
   "outputs": [
    {
     "data": {
      "text/plain": [
       "gender                         0\n",
       "race/ethnicity                 0\n",
       "parental level of education    0\n",
       "lunch                          0\n",
       "test preparation course        0\n",
       "math score                     0\n",
       "reading score                  0\n",
       "writing score                  0\n",
       "dtype: int64"
      ]
     },
     "execution_count": 166,
     "metadata": {},
     "output_type": "execute_result"
    }
   ],
   "source": [
    "df.isnull().sum()"
   ]
  },
  {
   "cell_type": "code",
   "execution_count": 167,
   "id": "dadbf869-c432-4b02-b9a4-df986bc6b59f",
   "metadata": {},
   "outputs": [
    {
     "data": {
      "text/plain": [
       "gender\n",
       "female    518\n",
       "male      482\n",
       "Name: count, dtype: int64"
      ]
     },
     "execution_count": 167,
     "metadata": {},
     "output_type": "execute_result"
    }
   ],
   "source": [
    "df['gender'].value_counts()"
   ]
  },
  {
   "cell_type": "code",
   "execution_count": 169,
   "id": "6b0d765a-503c-4cbd-8125-a5b14b526423",
   "metadata": {},
   "outputs": [
    {
     "data": {
      "text/html": [
       "<div>\n",
       "<style scoped>\n",
       "    .dataframe tbody tr th:only-of-type {\n",
       "        vertical-align: middle;\n",
       "    }\n",
       "\n",
       "    .dataframe tbody tr th {\n",
       "        vertical-align: top;\n",
       "    }\n",
       "\n",
       "    .dataframe thead th {\n",
       "        text-align: right;\n",
       "    }\n",
       "</style>\n",
       "<table border=\"1\" class=\"dataframe\">\n",
       "  <thead>\n",
       "    <tr style=\"text-align: right;\">\n",
       "      <th></th>\n",
       "      <th>gender</th>\n",
       "      <th>race/ethnicity</th>\n",
       "      <th>parental level of education</th>\n",
       "      <th>lunch</th>\n",
       "      <th>test preparation course</th>\n",
       "      <th>math score</th>\n",
       "      <th>reading score</th>\n",
       "      <th>writing score</th>\n",
       "    </tr>\n",
       "  </thead>\n",
       "  <tbody>\n",
       "    <tr>\n",
       "      <th>0</th>\n",
       "      <td>female</td>\n",
       "      <td>72.0</td>\n",
       "      <td>72.0</td>\n",
       "      <td>72.0</td>\n",
       "      <td>72.0</td>\n",
       "      <td>72</td>\n",
       "      <td>72</td>\n",
       "      <td>74</td>\n",
       "    </tr>\n",
       "    <tr>\n",
       "      <th>1</th>\n",
       "      <td>female</td>\n",
       "      <td>69.0</td>\n",
       "      <td>69.0</td>\n",
       "      <td>69.0</td>\n",
       "      <td>69.0</td>\n",
       "      <td>69</td>\n",
       "      <td>90</td>\n",
       "      <td>88</td>\n",
       "    </tr>\n",
       "    <tr>\n",
       "      <th>2</th>\n",
       "      <td>female</td>\n",
       "      <td>90.0</td>\n",
       "      <td>90.0</td>\n",
       "      <td>90.0</td>\n",
       "      <td>90.0</td>\n",
       "      <td>90</td>\n",
       "      <td>95</td>\n",
       "      <td>93</td>\n",
       "    </tr>\n",
       "    <tr>\n",
       "      <th>3</th>\n",
       "      <td>male</td>\n",
       "      <td>47.0</td>\n",
       "      <td>47.0</td>\n",
       "      <td>47.0</td>\n",
       "      <td>47.0</td>\n",
       "      <td>47</td>\n",
       "      <td>57</td>\n",
       "      <td>44</td>\n",
       "    </tr>\n",
       "    <tr>\n",
       "      <th>4</th>\n",
       "      <td>male</td>\n",
       "      <td>76.0</td>\n",
       "      <td>76.0</td>\n",
       "      <td>76.0</td>\n",
       "      <td>76.0</td>\n",
       "      <td>76</td>\n",
       "      <td>78</td>\n",
       "      <td>75</td>\n",
       "    </tr>\n",
       "  </tbody>\n",
       "</table>\n",
       "</div>"
      ],
      "text/plain": [
       "   gender  race/ethnicity  parental level of education  lunch  \\\n",
       "0  female            72.0                         72.0   72.0   \n",
       "1  female            69.0                         69.0   69.0   \n",
       "2  female            90.0                         90.0   90.0   \n",
       "3    male            47.0                         47.0   47.0   \n",
       "4    male            76.0                         76.0   76.0   \n",
       "\n",
       "   test preparation course  math score  reading score  writing score  \n",
       "0                     72.0          72             72             74  \n",
       "1                     69.0          69             90             88  \n",
       "2                     90.0          90             95             93  \n",
       "3                     47.0          47             57             44  \n",
       "4                     76.0          76             78             75  "
      ]
     },
     "execution_count": 169,
     "metadata": {},
     "output_type": "execute_result"
    }
   ],
   "source": [
    "df.head()"
   ]
  },
  {
   "cell_type": "code",
   "execution_count": 170,
   "id": "a256b53f-c9eb-420d-b83e-e83ad12c612e",
   "metadata": {},
   "outputs": [],
   "source": [
    "# check to the indepandent and depandent data into convert \n",
    "df['gender']=df['gender'].map({\"male\":0,\"female\":1})\n"
   ]
  },
  {
   "cell_type": "code",
   "execution_count": 171,
   "id": "c723c3e2-b961-4e79-8beb-ee0c6fbc4705",
   "metadata": {},
   "outputs": [
    {
     "data": {
      "text/html": [
       "<div>\n",
       "<style scoped>\n",
       "    .dataframe tbody tr th:only-of-type {\n",
       "        vertical-align: middle;\n",
       "    }\n",
       "\n",
       "    .dataframe tbody tr th {\n",
       "        vertical-align: top;\n",
       "    }\n",
       "\n",
       "    .dataframe thead th {\n",
       "        text-align: right;\n",
       "    }\n",
       "</style>\n",
       "<table border=\"1\" class=\"dataframe\">\n",
       "  <thead>\n",
       "    <tr style=\"text-align: right;\">\n",
       "      <th></th>\n",
       "      <th>gender</th>\n",
       "      <th>race/ethnicity</th>\n",
       "      <th>parental level of education</th>\n",
       "      <th>lunch</th>\n",
       "      <th>test preparation course</th>\n",
       "      <th>math score</th>\n",
       "      <th>reading score</th>\n",
       "      <th>writing score</th>\n",
       "    </tr>\n",
       "  </thead>\n",
       "  <tbody>\n",
       "    <tr>\n",
       "      <th>0</th>\n",
       "      <td>1</td>\n",
       "      <td>72.0</td>\n",
       "      <td>72.0</td>\n",
       "      <td>72.0</td>\n",
       "      <td>72.0</td>\n",
       "      <td>72</td>\n",
       "      <td>72</td>\n",
       "      <td>74</td>\n",
       "    </tr>\n",
       "    <tr>\n",
       "      <th>1</th>\n",
       "      <td>1</td>\n",
       "      <td>69.0</td>\n",
       "      <td>69.0</td>\n",
       "      <td>69.0</td>\n",
       "      <td>69.0</td>\n",
       "      <td>69</td>\n",
       "      <td>90</td>\n",
       "      <td>88</td>\n",
       "    </tr>\n",
       "    <tr>\n",
       "      <th>2</th>\n",
       "      <td>1</td>\n",
       "      <td>90.0</td>\n",
       "      <td>90.0</td>\n",
       "      <td>90.0</td>\n",
       "      <td>90.0</td>\n",
       "      <td>90</td>\n",
       "      <td>95</td>\n",
       "      <td>93</td>\n",
       "    </tr>\n",
       "    <tr>\n",
       "      <th>3</th>\n",
       "      <td>0</td>\n",
       "      <td>47.0</td>\n",
       "      <td>47.0</td>\n",
       "      <td>47.0</td>\n",
       "      <td>47.0</td>\n",
       "      <td>47</td>\n",
       "      <td>57</td>\n",
       "      <td>44</td>\n",
       "    </tr>\n",
       "    <tr>\n",
       "      <th>4</th>\n",
       "      <td>0</td>\n",
       "      <td>76.0</td>\n",
       "      <td>76.0</td>\n",
       "      <td>76.0</td>\n",
       "      <td>76.0</td>\n",
       "      <td>76</td>\n",
       "      <td>78</td>\n",
       "      <td>75</td>\n",
       "    </tr>\n",
       "  </tbody>\n",
       "</table>\n",
       "</div>"
      ],
      "text/plain": [
       "   gender  race/ethnicity  parental level of education  lunch  \\\n",
       "0       1            72.0                         72.0   72.0   \n",
       "1       1            69.0                         69.0   69.0   \n",
       "2       1            90.0                         90.0   90.0   \n",
       "3       0            47.0                         47.0   47.0   \n",
       "4       0            76.0                         76.0   76.0   \n",
       "\n",
       "   test preparation course  math score  reading score  writing score  \n",
       "0                     72.0          72             72             74  \n",
       "1                     69.0          69             90             88  \n",
       "2                     90.0          90             95             93  \n",
       "3                     47.0          47             57             44  \n",
       "4                     76.0          76             78             75  "
      ]
     },
     "execution_count": 171,
     "metadata": {},
     "output_type": "execute_result"
    }
   ],
   "source": [
    "df.head()"
   ]
  },
  {
   "cell_type": "code",
   "execution_count": 173,
   "id": "8977ac0a-0519-4b3d-b97b-e814a9ff8afb",
   "metadata": {},
   "outputs": [],
   "source": [
    "x=df.drop(columns=['parental level of education']) # dependent data \n",
    "y=df['parental level of education'] # indepandent data "
   ]
  },
  {
   "cell_type": "code",
   "execution_count": 174,
   "id": "aedf247b-778d-4087-99d2-eb17e0870184",
   "metadata": {},
   "outputs": [],
   "source": [
    "from sklearn.model_selection import train_test_split"
   ]
  },
  {
   "cell_type": "code",
   "execution_count": 175,
   "id": "827edd26-c0fd-4501-b15c-70f845a0d882",
   "metadata": {},
   "outputs": [],
   "source": [
    "x_train, x_test, y_train, y_test =train_test_split(x,y,test_size=0.2,random_state=42)"
   ]
  },
  {
   "cell_type": "code",
   "execution_count": 176,
   "id": "77bbb994-c32f-4c50-bf09-a8d4001115df",
   "metadata": {},
   "outputs": [
    {
     "data": {
      "text/html": [
       "<div>\n",
       "<style scoped>\n",
       "    .dataframe tbody tr th:only-of-type {\n",
       "        vertical-align: middle;\n",
       "    }\n",
       "\n",
       "    .dataframe tbody tr th {\n",
       "        vertical-align: top;\n",
       "    }\n",
       "\n",
       "    .dataframe thead th {\n",
       "        text-align: right;\n",
       "    }\n",
       "</style>\n",
       "<table border=\"1\" class=\"dataframe\">\n",
       "  <thead>\n",
       "    <tr style=\"text-align: right;\">\n",
       "      <th></th>\n",
       "      <th>gender</th>\n",
       "      <th>race/ethnicity</th>\n",
       "      <th>lunch</th>\n",
       "      <th>test preparation course</th>\n",
       "      <th>math score</th>\n",
       "      <th>reading score</th>\n",
       "      <th>writing score</th>\n",
       "    </tr>\n",
       "  </thead>\n",
       "  <tbody>\n",
       "    <tr>\n",
       "      <th>count</th>\n",
       "      <td>800.00</td>\n",
       "      <td>800.00</td>\n",
       "      <td>800.00</td>\n",
       "      <td>800.00</td>\n",
       "      <td>800.00</td>\n",
       "      <td>800.00</td>\n",
       "      <td>800.00</td>\n",
       "    </tr>\n",
       "    <tr>\n",
       "      <th>mean</th>\n",
       "      <td>0.53</td>\n",
       "      <td>66.50</td>\n",
       "      <td>66.50</td>\n",
       "      <td>66.50</td>\n",
       "      <td>66.50</td>\n",
       "      <td>69.56</td>\n",
       "      <td>68.46</td>\n",
       "    </tr>\n",
       "    <tr>\n",
       "      <th>std</th>\n",
       "      <td>0.50</td>\n",
       "      <td>15.02</td>\n",
       "      <td>15.02</td>\n",
       "      <td>15.02</td>\n",
       "      <td>15.02</td>\n",
       "      <td>14.46</td>\n",
       "      <td>15.09</td>\n",
       "    </tr>\n",
       "    <tr>\n",
       "      <th>min</th>\n",
       "      <td>0.00</td>\n",
       "      <td>8.00</td>\n",
       "      <td>8.00</td>\n",
       "      <td>8.00</td>\n",
       "      <td>8.00</td>\n",
       "      <td>24.00</td>\n",
       "      <td>15.00</td>\n",
       "    </tr>\n",
       "    <tr>\n",
       "      <th>25%</th>\n",
       "      <td>0.00</td>\n",
       "      <td>57.00</td>\n",
       "      <td>57.00</td>\n",
       "      <td>57.00</td>\n",
       "      <td>57.00</td>\n",
       "      <td>60.00</td>\n",
       "      <td>58.00</td>\n",
       "    </tr>\n",
       "    <tr>\n",
       "      <th>50%</th>\n",
       "      <td>1.00</td>\n",
       "      <td>66.00</td>\n",
       "      <td>66.00</td>\n",
       "      <td>66.00</td>\n",
       "      <td>66.00</td>\n",
       "      <td>70.00</td>\n",
       "      <td>69.00</td>\n",
       "    </tr>\n",
       "    <tr>\n",
       "      <th>75%</th>\n",
       "      <td>1.00</td>\n",
       "      <td>77.00</td>\n",
       "      <td>77.00</td>\n",
       "      <td>77.00</td>\n",
       "      <td>77.00</td>\n",
       "      <td>80.00</td>\n",
       "      <td>79.00</td>\n",
       "    </tr>\n",
       "    <tr>\n",
       "      <th>max</th>\n",
       "      <td>1.00</td>\n",
       "      <td>100.00</td>\n",
       "      <td>100.00</td>\n",
       "      <td>100.00</td>\n",
       "      <td>100.00</td>\n",
       "      <td>100.00</td>\n",
       "      <td>100.00</td>\n",
       "    </tr>\n",
       "  </tbody>\n",
       "</table>\n",
       "</div>"
      ],
      "text/plain": [
       "       gender  race/ethnicity   lunch  test preparation course  math score  \\\n",
       "count  800.00          800.00  800.00                   800.00      800.00   \n",
       "mean     0.53           66.50   66.50                    66.50       66.50   \n",
       "std      0.50           15.02   15.02                    15.02       15.02   \n",
       "min      0.00            8.00    8.00                     8.00        8.00   \n",
       "25%      0.00           57.00   57.00                    57.00       57.00   \n",
       "50%      1.00           66.00   66.00                    66.00       66.00   \n",
       "75%      1.00           77.00   77.00                    77.00       77.00   \n",
       "max      1.00          100.00  100.00                   100.00      100.00   \n",
       "\n",
       "       reading score  writing score  \n",
       "count         800.00         800.00  \n",
       "mean           69.56          68.46  \n",
       "std            14.46          15.09  \n",
       "min            24.00          15.00  \n",
       "25%            60.00          58.00  \n",
       "50%            70.00          69.00  \n",
       "75%            80.00          79.00  \n",
       "max           100.00         100.00  "
      ]
     },
     "execution_count": 176,
     "metadata": {},
     "output_type": "execute_result"
    }
   ],
   "source": [
    "np.round(x_train.describe(),2)"
   ]
  },
  {
   "cell_type": "code",
   "execution_count": 186,
   "id": "0fe229fe-d5f0-4e0d-9c46-fc160252b9bd",
   "metadata": {},
   "outputs": [],
   "source": [
    "from sklearn.preprocessing import StandardScaler"
   ]
  },
  {
   "cell_type": "code",
   "execution_count": 187,
   "id": "fe8b3061-5402-4c13-87c6-6b4792e3ddfe",
   "metadata": {},
   "outputs": [],
   "source": [
    "sc=StandardScaler()"
   ]
  },
  {
   "cell_type": "code",
   "execution_count": 188,
   "id": "2cbc829e-d182-41a6-bdb2-7e061ad62ed5",
   "metadata": {},
   "outputs": [],
   "source": [
    "# input data fit_transform \n",
    "x_train_new=sc.fit_transform(x_train) # convert array to convet into the datafram"
   ]
  },
  {
   "cell_type": "code",
   "execution_count": 189,
   "id": "ad679da3-d707-420f-bb0b-500f582b1d3d",
   "metadata": {},
   "outputs": [],
   "source": [
    "x_train_new=pd.DataFrame(x_train_new,columns=x_train.columns)"
   ]
  },
  {
   "cell_type": "markdown",
   "id": "d76d758c-ee66-4bf5-a537-141838c10e14",
   "metadata": {},
   "source": [
    "# This is Normal Distribution in convert"
   ]
  },
  {
   "cell_type": "code",
   "execution_count": 191,
   "id": "541629c2-9a1d-4409-9f44-ab2b44bc917a",
   "metadata": {},
   "outputs": [
    {
     "data": {
      "text/html": [
       "<div>\n",
       "<style scoped>\n",
       "    .dataframe tbody tr th:only-of-type {\n",
       "        vertical-align: middle;\n",
       "    }\n",
       "\n",
       "    .dataframe tbody tr th {\n",
       "        vertical-align: top;\n",
       "    }\n",
       "\n",
       "    .dataframe thead th {\n",
       "        text-align: right;\n",
       "    }\n",
       "</style>\n",
       "<table border=\"1\" class=\"dataframe\">\n",
       "  <thead>\n",
       "    <tr style=\"text-align: right;\">\n",
       "      <th></th>\n",
       "      <th>gender</th>\n",
       "      <th>race/ethnicity</th>\n",
       "      <th>lunch</th>\n",
       "      <th>test preparation course</th>\n",
       "      <th>math score</th>\n",
       "      <th>reading score</th>\n",
       "      <th>writing score</th>\n",
       "    </tr>\n",
       "  </thead>\n",
       "  <tbody>\n",
       "    <tr>\n",
       "      <th>count</th>\n",
       "      <td>800.00</td>\n",
       "      <td>800.00</td>\n",
       "      <td>800.00</td>\n",
       "      <td>800.00</td>\n",
       "      <td>800.00</td>\n",
       "      <td>800.00</td>\n",
       "      <td>800.00</td>\n",
       "    </tr>\n",
       "    <tr>\n",
       "      <th>mean</th>\n",
       "      <td>0.00</td>\n",
       "      <td>-0.00</td>\n",
       "      <td>-0.00</td>\n",
       "      <td>-0.00</td>\n",
       "      <td>-0.00</td>\n",
       "      <td>-0.00</td>\n",
       "      <td>0.00</td>\n",
       "    </tr>\n",
       "    <tr>\n",
       "      <th>std</th>\n",
       "      <td>1.00</td>\n",
       "      <td>1.00</td>\n",
       "      <td>1.00</td>\n",
       "      <td>1.00</td>\n",
       "      <td>1.00</td>\n",
       "      <td>1.00</td>\n",
       "      <td>1.00</td>\n",
       "    </tr>\n",
       "    <tr>\n",
       "      <th>min</th>\n",
       "      <td>-1.05</td>\n",
       "      <td>-3.90</td>\n",
       "      <td>-3.90</td>\n",
       "      <td>-3.90</td>\n",
       "      <td>-3.90</td>\n",
       "      <td>-3.15</td>\n",
       "      <td>-3.55</td>\n",
       "    </tr>\n",
       "    <tr>\n",
       "      <th>25%</th>\n",
       "      <td>-1.05</td>\n",
       "      <td>-0.63</td>\n",
       "      <td>-0.63</td>\n",
       "      <td>-0.63</td>\n",
       "      <td>-0.63</td>\n",
       "      <td>-0.66</td>\n",
       "      <td>-0.69</td>\n",
       "    </tr>\n",
       "    <tr>\n",
       "      <th>50%</th>\n",
       "      <td>0.95</td>\n",
       "      <td>-0.03</td>\n",
       "      <td>-0.03</td>\n",
       "      <td>-0.03</td>\n",
       "      <td>-0.03</td>\n",
       "      <td>0.03</td>\n",
       "      <td>0.04</td>\n",
       "    </tr>\n",
       "    <tr>\n",
       "      <th>75%</th>\n",
       "      <td>0.95</td>\n",
       "      <td>0.70</td>\n",
       "      <td>0.70</td>\n",
       "      <td>0.70</td>\n",
       "      <td>0.70</td>\n",
       "      <td>0.72</td>\n",
       "      <td>0.70</td>\n",
       "    </tr>\n",
       "    <tr>\n",
       "      <th>max</th>\n",
       "      <td>0.95</td>\n",
       "      <td>2.23</td>\n",
       "      <td>2.23</td>\n",
       "      <td>2.23</td>\n",
       "      <td>2.23</td>\n",
       "      <td>2.11</td>\n",
       "      <td>2.09</td>\n",
       "    </tr>\n",
       "  </tbody>\n",
       "</table>\n",
       "</div>"
      ],
      "text/plain": [
       "       gender  race/ethnicity   lunch  test preparation course  math score  \\\n",
       "count  800.00          800.00  800.00                   800.00      800.00   \n",
       "mean     0.00           -0.00   -0.00                    -0.00       -0.00   \n",
       "std      1.00            1.00    1.00                     1.00        1.00   \n",
       "min     -1.05           -3.90   -3.90                    -3.90       -3.90   \n",
       "25%     -1.05           -0.63   -0.63                    -0.63       -0.63   \n",
       "50%      0.95           -0.03   -0.03                    -0.03       -0.03   \n",
       "75%      0.95            0.70    0.70                     0.70        0.70   \n",
       "max      0.95            2.23    2.23                     2.23        2.23   \n",
       "\n",
       "       reading score  writing score  \n",
       "count         800.00         800.00  \n",
       "mean           -0.00           0.00  \n",
       "std             1.00           1.00  \n",
       "min            -3.15          -3.55  \n",
       "25%            -0.66          -0.69  \n",
       "50%             0.03           0.04  \n",
       "75%             0.72           0.70  \n",
       "max             2.11           2.09  "
      ]
     },
     "execution_count": 191,
     "metadata": {},
     "output_type": "execute_result"
    }
   ],
   "source": [
    "np.round(x_train_new.describe(),2)"
   ]
  },
  {
   "cell_type": "code",
   "execution_count": null,
   "id": "29f062fd-db97-4867-825a-f4432c92fad1",
   "metadata": {},
   "outputs": [],
   "source": []
  },
  {
   "cell_type": "code",
   "execution_count": null,
   "id": "e58bb657-d6a6-452c-949c-bca32f422278",
   "metadata": {},
   "outputs": [],
   "source": []
  }
 ],
 "metadata": {
  "kernelspec": {
   "display_name": "Python 3 (ipykernel)",
   "language": "python",
   "name": "python3"
  },
  "language_info": {
   "codemirror_mode": {
    "name": "ipython",
    "version": 3
   },
   "file_extension": ".py",
   "mimetype": "text/x-python",
   "name": "python",
   "nbconvert_exporter": "python",
   "pygments_lexer": "ipython3",
   "version": "3.12.5"
  }
 },
 "nbformat": 4,
 "nbformat_minor": 5
}
